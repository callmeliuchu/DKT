{
 "cells": [
  {
   "cell_type": "code",
   "execution_count": 35,
   "id": "697420e7",
   "metadata": {},
   "outputs": [],
   "source": [
    "from torch.nn import functional as F\n",
    "import torch\n",
    "from torch import nn"
   ]
  },
  {
   "cell_type": "code",
   "execution_count": null,
   "id": "dca315b6",
   "metadata": {},
   "outputs": [],
   "source": []
  },
  {
   "cell_type": "code",
   "execution_count": 36,
   "id": "991f8e0e",
   "metadata": {},
   "outputs": [],
   "source": [
    "class RNN(nn.Module):\n",
    "    \n",
    "    def __init__(self,input_size,hidden_size,output_size):\n",
    "        super().__init__()\n",
    "        self.rnn = nn.RNN(input_size,hidden_size,batch_first=True)\n",
    "        self.fc = nn.Linear(hidden_size,output_size)\n",
    "    \n",
    "    \n",
    "    def forward(self,x,target):\n",
    "        # B,T,C\n",
    "        out,h = self.rnn(x)\n",
    "        # B,T,H\n",
    "        out = self.fc(out)\n",
    "        loss = F.binary_cross_entropy(out,target)\n",
    "        return loss"
   ]
  },
  {
   "cell_type": "code",
   "execution_count": 37,
   "id": "4cf5c77a",
   "metadata": {},
   "outputs": [
    {
     "name": "stdout",
     "output_type": "stream",
     "text": [
      "Epoch 0 Loss: 49.6250\n",
      "Epoch 10 Loss: 49.6250\n",
      "Epoch 20 Loss: 49.6250\n",
      "Epoch 30 Loss: 49.6250\n",
      "Epoch 40 Loss: 49.6250\n",
      "Epoch 50 Loss: 49.6250\n",
      "Epoch 60 Loss: 49.6250\n",
      "Epoch 70 Loss: 49.6250\n",
      "Epoch 80 Loss: 49.6250\n",
      "Epoch 90 Loss: 49.6250\n",
      "Test Accuracy: 0.4800\n"
     ]
    }
   ],
   "source": [
    "import torch\n",
    "import torch.nn as nn\n",
    "import torch.optim as optim\n",
    "from sklearn.datasets import make_classification\n",
    "from sklearn.model_selection import train_test_split\n",
    "\n",
    "# Define the RNN model\n",
    "class RNN(nn.Module):\n",
    "    def __init__(self, input_size, hidden_size, output_size):\n",
    "        super(RNN, self).__init__()\n",
    "        self.hidden_size = hidden_size\n",
    "        self.rnn = nn.RNN(input_size, hidden_size, batch_first=True)\n",
    "        self.fc = nn.Linear(hidden_size, output_size)\n",
    "        self.sigmoid = nn.Sigmoid()\n",
    "\n",
    "    def forward(self, x):\n",
    "        # Initialize the hidden state\n",
    "        h0 = torch.zeros(1, x.size(0), self.hidden_size).to(x.device)\n",
    "\n",
    "        # Pass the input through the RNN layer\n",
    "        out, hn = self.rnn(x, h0)\n",
    "\n",
    "        # Pass the output through the fully connected layer and the sigmoid activation function\n",
    "        out = self.fc(out)\n",
    "        \n",
    "        out = F.softmax(out,dim=-1)\n",
    "\n",
    "        return out.squeeze()\n",
    "\n",
    "# Generate some random binary classification data\n",
    "X, y = make_classification(n_samples=1000, n_features=10, n_informative=5, n_redundant=0, random_state=42)\n",
    "\n",
    "# Split the data into training and testing sets\n",
    "X_train, X_test, y_train, y_test = train_test_split(X, y, test_size=0.2, random_state=42)\n",
    "\n",
    "# Convert the data to PyTorch tensors\n",
    "X_train = torch.from_numpy(X_train).float()\n",
    "X_test = torch.from_numpy(X_test).float()\n",
    "y_train = torch.from_numpy(y_train).float()\n",
    "y_test = torch.from_numpy(y_test).float()\n",
    "\n",
    "# Set up the RNN model\n",
    "input_size = 10\n",
    "hidden_size = 16\n",
    "output_size = 1\n",
    "rnn = RNN(input_size, hidden_size, output_size)\n",
    "\n",
    "# Define the loss function and optimizer\n",
    "criterion = nn.BCELoss()\n",
    "optimizer = optim.AdamW(rnn.parameters(), lr=0.001)\n",
    "\n",
    "# Train the model\n",
    "for epoch in range(100):\n",
    "    # Zero the gradients\n",
    "    optimizer.zero_grad()\n",
    "    X = X_train.unsqueeze(0)\n",
    "    Y = y_train.unsqueeze(0)\n",
    "    # Forward pass\n",
    "    outputs = rnn(X)\n",
    "\n",
    "    # Compute the loss and backward pass\n",
    "    Y = Y.squeeze(0)\n",
    "    loss = criterion(outputs, Y)\n",
    "    optimizer.zero_grad(set_to_none=True)\n",
    "    loss.backward()\n",
    "\n",
    "    # Update the parameters\n",
    "    optimizer.step()\n",
    "\n",
    "    # Print the loss every 10 epochs\n",
    "    if epoch % 10 == 0:\n",
    "        print('Epoch %d Loss: %.4f' % (epoch, loss.item()))\n",
    "\n",
    "# Test the model\n",
    "with torch.no_grad():\n",
    "    X = X_test.unsqueeze(0)\n",
    "    y_pred = rnn(X)\n",
    "    y_pred[y_pred >= 0.5] = 1\n",
    "    y_pred[y_pred < 0.5] = 0\n",
    "\n",
    "accuracy = (y_pred == y_test).sum().item() / y_test.size(0)\n",
    "print('Test Accuracy: %.4f' % accuracy)"
   ]
  },
  {
   "cell_type": "code",
   "execution_count": null,
   "outputs": [],
   "source": [
    "class DKT(nn.Module):\n",
    "\n",
    "    def __init__(self,input_size,quesion_size):\n",
    "        super().__init__()\n",
    "        self.net = nn.Linear(input_size,quesion_size)\n",
    "        self.sigmoid = nn.Sigmoid()\n",
    "    \n",
    "    \n",
    "    def forward(self,x,target=None):\n",
    "        # x B,T,C\n",
    "        logits = self.net(x) # B,T,question_size\n",
    "        # target B,T\n",
    "        # B,T,C \n",
    "        B,T,C = logits.shape\n",
    "        if target is not None:\n",
    "            logs = logits.view(B*T,-1)\n",
    "            target = target.view(B*T)\n",
    "            loss =  F.cross_entropy(logs,target)\n",
    "        else:\n",
    "            loss = None\n",
    "        return loss,logits"
   ],
   "metadata": {
    "collapsed": false,
    "pycharm": {
     "name": "#%%\n"
    }
   }
  },
  {
   "cell_type": "code",
   "execution_count": null,
   "outputs": [],
   "source": [
    "import json"
   ],
   "metadata": {
    "collapsed": false,
    "pycharm": {
     "name": "#%%\n"
    }
   }
  },
  {
   "cell_type": "code",
   "execution_count": null,
   "outputs": [],
   "source": [
    "num_question = 123"
   ],
   "metadata": {
    "collapsed": false,
    "pycharm": {
     "name": "#%%\n"
    }
   }
  },
  {
   "cell_type": "code",
   "execution_count": null,
   "outputs": [],
   "source": [
    "import numpy as np"
   ],
   "metadata": {
    "collapsed": false,
    "pycharm": {
     "name": "#%%\n"
    }
   }
  },
  {
   "cell_type": "code",
   "execution_count": null,
   "outputs": [],
   "source": [
    "block_size = 50"
   ],
   "metadata": {
    "collapsed": false,
    "pycharm": {
     "name": "#%%\n"
    }
   }
  },
  {
   "cell_type": "code",
   "execution_count": null,
   "outputs": [],
   "source": [
    "def get_data(dtype):\n",
    "    with open('{}.json'.format(dtype),'r') as f:\n",
    "        train_data = json.load(f)\n",
    "        result = []\n",
    "        y_arr = []\n",
    "        for x,y in train_data:\n",
    "            x_len = len(x)\n",
    "            p = block_size - x_len % block_size\n",
    "            total = x_len + p\n",
    "            one_hot = [[0]*num_question*2 for _ in range(total)]\n",
    "            yy = y + [0]*p\n",
    "            for i,(xi,yi) in enumerate(zip(x,y)):\n",
    "                if yi == 1:\n",
    "                    one_hot[i][xi] = 1.\n",
    "                else:\n",
    "                    one_hot[i][xi+num_question] = 1.\n",
    "            result.extend(one_hot)\n",
    "            y_arr.extend(yy)\n",
    "        result = torch.tensor(result)\n",
    "        print(result.shape)\n",
    "        result = result.reshape(-1,block_size,num_question*2)\n",
    "        y_arr = torch.tensor(y_arr)\n",
    "        y_arr = y_arr.reshape(-1,block_size)\n",
    "        return result,y_arr"
   ],
   "metadata": {
    "collapsed": false,
    "pycharm": {
     "name": "#%%\n"
    }
   }
  },
  {
   "cell_type": "code",
   "execution_count": null,
   "outputs": [],
   "source": [
    "d = torch.tensor([[0,1,2,0]])"
   ],
   "metadata": {
    "collapsed": false,
    "pycharm": {
     "name": "#%%\n"
    }
   }
  },
  {
   "cell_type": "code",
   "execution_count": null,
   "outputs": [],
   "source": [
    "def parse_raw_data(x):\n",
    "    #x B,T,C\n",
    "    \n",
    "\n"
   ],
   "metadata": {
    "collapsed": false,
    "pycharm": {
     "name": "#%%\n"
    }
   }
  },
  {
   "cell_type": "code",
   "execution_count": null,
   "outputs": [],
   "source": [
    "x,y = get_data('train')"
   ],
   "metadata": {
    "collapsed": false,
    "pycharm": {
     "name": "#%%\n"
    }
   }
  },
  {
   "cell_type": "code",
   "execution_count": null,
   "outputs": [],
   "source": [
    "x.dtype"
   ],
   "metadata": {
    "collapsed": false,
    "pycharm": {
     "name": "#%%\n"
    }
   }
  },
  {
   "cell_type": "code",
   "execution_count": null,
   "outputs": [],
   "source": [
    "y.shape"
   ],
   "metadata": {
    "collapsed": false,
    "pycharm": {
     "name": "#%%\n"
    }
   }
  },
  {
   "cell_type": "code",
   "execution_count": null,
   "outputs": [],
   "source": [
    "dkt = DKT(num_question*2,num_question)"
   ],
   "metadata": {
    "collapsed": false,
    "pycharm": {
     "name": "#%%\n"
    }
   }
  },
  {
   "cell_type": "code",
   "execution_count": null,
   "outputs": [],
   "source": [
    "import torch.optim as optim\n",
    "optimizer = optim.AdamW(dkt.parameters(),lr=0.0003)"
   ],
   "metadata": {
    "collapsed": false,
    "pycharm": {
     "name": "#%%\n"
    }
   }
  },
  {
   "cell_type": "code",
   "execution_count": null,
   "outputs": [],
   "source": [],
   "metadata": {
    "collapsed": false,
    "pycharm": {
     "name": "#%%\n"
    }
   }
  },
  {
   "cell_type": "code",
   "execution_count": null,
   "outputs": [],
   "source": [],
   "metadata": {
    "collapsed": false,
    "pycharm": {
     "name": "#%%\n"
    }
   }
  },
  {
   "cell_type": "code",
   "execution_count": null,
   "outputs": [],
   "source": [
    "for xb,yb in zip(x,y):\n",
    "    loss,logits = dkt(xb.unsqueeze(0),yb.unsqueeze(0))\n",
    "    optimizer.zero_grad(set_to_none=True)\n",
    "    loss.backward()\n",
    "    optimizer.step()\n",
    "    print(loss.item())"
   ],
   "metadata": {
    "collapsed": false,
    "pycharm": {
     "name": "#%%\n"
    }
   }
  },
  {
   "cell_type": "code",
   "execution_count": null,
   "outputs": [],
   "source": [
    "val_x,val_y = get_data('val')"
   ],
   "metadata": {
    "collapsed": false,
    "pycharm": {
     "name": "#%%\n"
    }
   }
  },
  {
   "cell_type": "code",
   "execution_count": null,
   "outputs": [],
   "source": [
    "loss,log=dkt(val_x,val_y)"
   ],
   "metadata": {
    "collapsed": false,
    "pycharm": {
     "name": "#%%\n"
    }
   }
  },
  {
   "cell_type": "code",
   "execution_count": null,
   "outputs": [],
   "source": [
    "log.shape"
   ],
   "metadata": {
    "collapsed": false,
    "pycharm": {
     "name": "#%%\n"
    }
   }
  },
  {
   "cell_type": "code",
   "execution_count": null,
   "outputs": [],
   "source": [
    "(torch.argmax(log,dim=-1) == val_y).sum() / val_y.numel()"
   ],
   "metadata": {
    "collapsed": false,
    "pycharm": {
     "name": "#%%\n"
    }
   }
  },
  {
   "cell_type": "code",
   "execution_count": null,
   "outputs": [],
   "source": [
    "torch.argmax(log,dim=-1)"
   ],
   "metadata": {
    "collapsed": false,
    "pycharm": {
     "name": "#%%\n"
    }
   }
  },
  {
   "cell_type": "code",
   "execution_count": null,
   "outputs": [],
   "source": [
    "log"
   ],
   "metadata": {
    "collapsed": false,
    "pycharm": {
     "name": "#%%\n"
    }
   }
  },
  {
   "cell_type": "code",
   "execution_count": null,
   "outputs": [],
   "source": [
    "val_y"
   ],
   "metadata": {
    "collapsed": false,
    "pycharm": {
     "name": "#%%\n"
    }
   }
  },
  {
   "cell_type": "code",
   "execution_count": null,
   "outputs": [],
   "source": [],
   "metadata": {
    "collapsed": false,
    "pycharm": {
     "name": "#%%\n"
    }
   }
  },
  {
   "cell_type": "code",
   "execution_count": 147,
   "id": "395bccb2",
   "metadata": {},
   "outputs": [
    {
     "data": {
      "text/plain": [
       "tensor(0.9038)"
      ]
     },
     "execution_count": 147,
     "metadata": {},
     "output_type": "execute_result"
    }
   ],
   "source": [
    "(torch.argmax(log,dim=-1) == val_y).sum() / val_y.numel()"
   ]
  },
  {
   "cell_type": "code",
   "execution_count": 145,
   "id": "e47b580c",
   "metadata": {},
   "outputs": [
    {
     "data": {
      "text/plain": [
       "tensor([[1, 1, 1,  ..., 0, 0, 0],\n",
       "        [1, 1, 0,  ..., 0, 0, 0],\n",
       "        [1, 1, 1,  ..., 0, 0, 0],\n",
       "        ...,\n",
       "        [1, 1, 0,  ..., 0, 1, 0],\n",
       "        [1, 1, 1,  ..., 1, 1, 1],\n",
       "        [1, 1, 1,  ..., 0, 0, 0]])"
      ]
     },
     "execution_count": 145,
     "metadata": {},
     "output_type": "execute_result"
    }
   ],
   "source": [
    "torch.argmax(log,dim=-1)"
   ]
  },
  {
   "cell_type": "code",
   "execution_count": 149,
   "id": "8d9e1dc6",
   "metadata": {},
   "outputs": [
    {
     "data": {
      "text/plain": [
       "tensor([[[ 1.6134,  2.9911, -4.8053,  ..., -4.8083, -4.8109, -4.7659],\n",
       "         [ 1.4352,  3.1362, -4.9730,  ..., -5.0383, -4.8650, -4.9196],\n",
       "         [ 1.4721,  3.1411, -4.8628,  ..., -4.9298, -4.8128, -4.8126],\n",
       "         ...,\n",
       "         [ 3.1372,  1.8240, -3.7837,  ..., -3.7848, -3.7221, -3.7232],\n",
       "         [ 3.1372,  1.8240, -3.7837,  ..., -3.7848, -3.7221, -3.7232],\n",
       "         [ 3.1372,  1.8240, -3.7837,  ..., -3.7848, -3.7221, -3.7232]],\n",
       "\n",
       "        [[ 1.6134,  2.9911, -4.8053,  ..., -4.8083, -4.8109, -4.7659],\n",
       "         [ 1.4352,  3.1362, -4.9730,  ..., -5.0383, -4.8650, -4.9196],\n",
       "         [ 4.1010,  0.5850, -4.7277,  ..., -4.7815, -4.6155, -4.6501],\n",
       "         ...,\n",
       "         [ 3.1372,  1.8240, -3.7837,  ..., -3.7848, -3.7221, -3.7232],\n",
       "         [ 3.1372,  1.8240, -3.7837,  ..., -3.7848, -3.7221, -3.7232],\n",
       "         [ 3.1372,  1.8240, -3.7837,  ..., -3.7848, -3.7221, -3.7232]],\n",
       "\n",
       "        [[ 1.6134,  2.9911, -4.8053,  ..., -4.8083, -4.8109, -4.7659],\n",
       "         [ 1.4352,  3.1362, -4.9730,  ..., -5.0383, -4.8650, -4.9196],\n",
       "         [ 1.4721,  3.1411, -4.8628,  ..., -4.9298, -4.8128, -4.8126],\n",
       "         ...,\n",
       "         [ 3.1372,  1.8240, -3.7837,  ..., -3.7848, -3.7221, -3.7232],\n",
       "         [ 3.1372,  1.8240, -3.7837,  ..., -3.7848, -3.7221, -3.7232],\n",
       "         [ 3.1372,  1.8240, -3.7837,  ..., -3.7848, -3.7221, -3.7232]],\n",
       "\n",
       "        ...,\n",
       "\n",
       "        [[ 1.6434,  2.9892, -4.8421,  ..., -4.7900, -4.7121, -4.8171],\n",
       "         [ 1.7238,  2.9187, -4.7566,  ..., -4.7964, -4.7437, -4.7705],\n",
       "         [ 3.8193,  0.9955, -4.3477,  ..., -4.3819, -4.3894, -4.3145],\n",
       "         ...,\n",
       "         [ 3.6786,  1.1308, -4.2840,  ..., -4.3101, -4.2796, -4.2360],\n",
       "         [ 2.3044,  2.4801, -4.3415,  ..., -4.3134, -4.3329, -4.2282],\n",
       "         [ 3.6786,  1.1308, -4.2840,  ..., -4.3101, -4.2796, -4.2360]],\n",
       "\n",
       "        [[ 2.3044,  2.4801, -4.3415,  ..., -4.3134, -4.3329, -4.2282],\n",
       "         [ 2.3044,  2.4801, -4.3415,  ..., -4.3134, -4.3329, -4.2282],\n",
       "         [ 2.3044,  2.4801, -4.3415,  ..., -4.3134, -4.3329, -4.2282],\n",
       "         ...,\n",
       "         [ 1.7397,  3.0028, -4.8205,  ..., -4.7955, -4.6934, -4.7081],\n",
       "         [ 2.2683,  2.5690, -4.5193,  ..., -4.5037, -4.4449, -4.4710],\n",
       "         [ 1.3072,  3.2273, -5.0189,  ..., -5.0437, -4.9539, -4.9578]],\n",
       "\n",
       "        [[ 1.8665,  2.8557, -4.6109,  ..., -4.7237, -4.6548, -4.5805],\n",
       "         [ 2.0481,  2.7536, -4.5039,  ..., -4.5472, -4.4598, -4.5171],\n",
       "         [ 2.0481,  2.7536, -4.5039,  ..., -4.5472, -4.4598, -4.5171],\n",
       "         ...,\n",
       "         [ 3.1372,  1.8240, -3.7837,  ..., -3.7848, -3.7221, -3.7232],\n",
       "         [ 3.1372,  1.8240, -3.7837,  ..., -3.7848, -3.7221, -3.7232],\n",
       "         [ 3.1372,  1.8240, -3.7837,  ..., -3.7848, -3.7221, -3.7232]]],\n",
       "       grad_fn=<ViewBackward0>)"
      ]
     },
     "execution_count": 149,
     "metadata": {},
     "output_type": "execute_result"
    }
   ],
   "source": [
    "log"
   ]
  },
  {
   "cell_type": "code",
   "execution_count": 146,
   "id": "cb0bb6d6",
   "metadata": {},
   "outputs": [
    {
     "data": {
      "text/plain": [
       "tensor([[1, 1, 1,  ..., 0, 0, 0],\n",
       "        [1, 1, 0,  ..., 0, 0, 0],\n",
       "        [1, 1, 1,  ..., 0, 0, 0],\n",
       "        ...,\n",
       "        [1, 1, 0,  ..., 0, 1, 0],\n",
       "        [1, 1, 1,  ..., 1, 1, 1],\n",
       "        [1, 1, 1,  ..., 0, 0, 0]])"
      ]
     },
     "execution_count": 146,
     "metadata": {},
     "output_type": "execute_result"
    }
   ],
   "source": [
    "val_y"
   ]
  },
  {
   "cell_type": "code",
   "execution_count": null,
   "id": "955cbce8",
   "metadata": {},
   "outputs": [],
   "source": []
  }
 ],
 "metadata": {
  "kernelspec": {
   "display_name": "Python 3 (ipykernel)",
   "language": "python",
   "name": "python3"
  },
  "language_info": {
   "codemirror_mode": {
    "name": "ipython",
    "version": 3
   },
   "file_extension": ".py",
   "mimetype": "text/x-python",
   "name": "python",
   "nbconvert_exporter": "python",
   "pygments_lexer": "ipython3",
   "version": "3.10.8"
  }
 },
 "nbformat": 4,
 "nbformat_minor": 5
}