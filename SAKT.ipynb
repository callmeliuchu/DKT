{
 "cells": [
  {
   "cell_type": "code",
   "execution_count": 20,
   "id": "41716f51",
   "metadata": {},
   "outputs": [],
   "source": [
    "from torch import nn\n",
    "import torch\n",
    "import torch.nn.functional as F\n",
    "import json\n",
    "import numpy as np\n",
    "from tqdm import tqdm\n",
    "from torch import optim"
   ]
  },
  {
   "cell_type": "code",
   "execution_count": 106,
   "id": "c5b5fc13",
   "metadata": {},
   "outputs": [],
   "source": [
    "def get_data(name,block_size=50,num_questions=123):\n",
    "    with open('{}.json'.format(name),'r') as f:\n",
    "        data = json.load(f)\n",
    "        ans = []\n",
    "        for x,y in tqdm(data):\n",
    "            x_len = len(x)\n",
    "            left = block_size - x_len % block_size\n",
    "            total = x_len + left\n",
    "            res = np.zeros((total,num_questions*2))\n",
    "            for i,(xi,yi) in enumerate(zip(x,y)):\n",
    "                if yi == 1:\n",
    "                    res[i][num_questions+xi] = 1\n",
    "                else:\n",
    "                    res[i][xi] = 1\n",
    "            ans.extend(res.tolist())\n",
    "        ans =  torch.tensor(ans)\n",
    "        ans = ans.reshape(-1,block_size,num_questions*2)\n",
    "        return ans"
   ]
  },
  {
   "cell_type": "code",
   "execution_count": 6,
   "id": "cc4ce0a7",
   "metadata": {},
   "outputs": [
    {
     "name": "stderr",
     "output_type": "stream",
     "text": [
      "100%|████████████████████████████████████████████████████████████████████████████████████████████████████████████████████████████████████████████████████████████| 3746/3746 [00:04<00:00, 771.46it/s]\n",
      "100%|██████████████████████████████████████████████████████████████████████████████████████████████████████████████████████████████████████████████████████████████| 417/417 [00:00<00:00, 737.39it/s]\n"
     ]
    }
   ],
   "source": [
    "train_data = get_data('train')\n",
    "val_data = get_data('val')"
   ]
  },
  {
   "cell_type": "code",
   "execution_count": 8,
   "id": "924b9eca",
   "metadata": {},
   "outputs": [
    {
     "data": {
      "text/plain": [
       "torch.Size([7812, 50, 246])"
      ]
     },
     "execution_count": 8,
     "metadata": {},
     "output_type": "execute_result"
    }
   ],
   "source": [
    "train_data.shape"
   ]
  },
  {
   "cell_type": "code",
   "execution_count": 9,
   "id": "8280753d",
   "metadata": {},
   "outputs": [
    {
     "data": {
      "text/plain": [
       "torch.Size([1573, 50, 246])"
      ]
     },
     "execution_count": 9,
     "metadata": {},
     "output_type": "execute_result"
    }
   ],
   "source": [
    "val_data.shape"
   ]
  },
  {
   "cell_type": "code",
   "execution_count": 17,
   "id": "4da91f59",
   "metadata": {},
   "outputs": [],
   "source": [
    "def parse_raw_data(x,logits,num_questions=123):\n",
    "    # x T,C\n",
    "    # logits T,C\n",
    "    pred_idx = torch.nonzero(x)[1:,-1] % num_questions\n",
    "    pred_pro = logits.gather(1,pred_idx.view(-1,1)).flatten()\n",
    "    true_labels = torch.nonzero(x)[1:,-1] // num_questions\n",
    "    return true_labels,pred_pro\n",
    "    "
   ]
  },
  {
   "cell_type": "code",
   "execution_count": 18,
   "id": "71f75e48",
   "metadata": {},
   "outputs": [
    {
     "data": {
      "text/plain": [
       "(tensor([1, 1, 1, 0, 0, 0, 0, 1, 1, 1, 1, 1, 1, 0, 1, 1, 1, 1, 1, 1, 1, 0, 1, 1,\n",
       "         1, 0, 1, 1, 0, 0, 1, 1, 1, 1, 1, 0, 1, 0, 0, 0, 1, 0, 0, 1, 0, 0, 0, 1,\n",
       "         1]),\n",
       " tensor([1., 0., 0., 0., 1., 1., 1., 1., 0., 0., 0., 0., 0., 0., 1., 0., 0., 0.,\n",
       "         0., 0., 0., 0., 1., 0., 0., 0., 1., 0., 0., 1., 1., 0., 0., 0., 0., 0.,\n",
       "         1., 0., 0., 1., 1., 0., 1., 1., 0., 0., 1., 1., 0.]))"
      ]
     },
     "execution_count": 18,
     "metadata": {},
     "output_type": "execute_result"
    }
   ],
   "source": [
    "parse_raw_data(train_data[0],train_data[0])"
   ]
  },
  {
   "cell_type": "code",
   "execution_count": 115,
   "id": "3c4b1970",
   "metadata": {},
   "outputs": [],
   "source": [
    "class Head(nn.Module):\n",
    "    \n",
    "    def __init__(self,embed_size,head_size):\n",
    "        super().__init__()\n",
    "        self.key = nn.Linear(embed_size,head_size)\n",
    "        self.query = nn.Linear(embed_size,head_size)\n",
    "        self.value = nn.Linear(embed_size,head_size)\n",
    "    \n",
    "    def forward(self,x):\n",
    "        k = self.key(x)\n",
    "        q = self.query(x)\n",
    "        v = self.value(x)\n",
    "        B,T,C = k.shape\n",
    "        w = q @ k.transpose(-1,-2) * (C**-0.5)\n",
    "        mask = torch.tril(torch.ones(T,T))\n",
    "        w = w.masked_fill(mask==0,float(\"-inf\"))\n",
    "        w = F.softmax(w,dim=-1)\n",
    "        v = w @ v\n",
    "        return v"
   ]
  },
  {
   "cell_type": "code",
   "execution_count": 116,
   "id": "f87a19ae",
   "metadata": {},
   "outputs": [],
   "source": [
    "class SAKT(nn.Module):\n",
    "    \n",
    "    def __init__(self,input_size,output_size):\n",
    "        super().__init__()\n",
    "        head_size = 64\n",
    "        self.head = Head(input_size,head_size)\n",
    "        self.linear = nn.Linear(head_size,head_size)\n",
    "        self.proj = nn.Linear(head_size,output_size)\n",
    "        self.sigmoid = nn.Sigmoid()\n",
    "    \n",
    "    def forward(self,x):\n",
    "        x = self.head(x)\n",
    "        x = self.linear(x)\n",
    "        x = self.proj(x)\n",
    "        x = self.sigmoid(x)\n",
    "        return x"
   ]
  },
  {
   "cell_type": "code",
   "execution_count": 79,
   "id": "c9ff31a6",
   "metadata": {},
   "outputs": [],
   "source": [
    "num_questions = 123"
   ]
  },
  {
   "cell_type": "code",
   "execution_count": 117,
   "id": "142a7e12",
   "metadata": {},
   "outputs": [],
   "source": [
    "sakt = SAKT(num_questions*2,num_questions)"
   ]
  },
  {
   "cell_type": "code",
   "execution_count": 110,
   "id": "3e3508f8",
   "metadata": {},
   "outputs": [],
   "source": [
    "loss_func = nn.BCELoss()"
   ]
  },
  {
   "cell_type": "code",
   "execution_count": 111,
   "id": "ea9a01dd",
   "metadata": {},
   "outputs": [],
   "source": [
    "def eval_data(true_labels,pred_pro):\n",
    "    sakt.eval()\n",
    "    pred_idx = (pred_pro>=0.5).float()\n",
    "    p = (true_labels == pred_idx).sum() / len(pred_idx)\n",
    "    print('acc',p)"
   ]
  },
  {
   "cell_type": "code",
   "execution_count": 113,
   "id": "6786a762",
   "metadata": {},
   "outputs": [],
   "source": [
    "op = optim.Adam(sakt.parameters(),lr=0.0002)"
   ]
  },
  {
   "cell_type": "code",
   "execution_count": null,
   "id": "2c0b6c19",
   "metadata": {},
   "outputs": [
    {
     "name": "stdout",
     "output_type": "stream",
     "text": [
      "acc tensor(0.4997)\n"
     ]
    }
   ],
   "source": [
    "for _ in range(10):\n",
    "    true_arr = torch.tensor([])\n",
    "    pre_arr = torch.tensor([])\n",
    "    sakt.train()\n",
    "    for i,xb in enumerate(train_data):\n",
    "        logits = sakt(xb.unsqueeze(0))\n",
    "        true_labels,pred_pro = parse_raw_data(xb,logits.squeeze(0))\n",
    "        true_arr = torch.cat([true_arr,true_labels])\n",
    "        pre_arr = torch.cat([pre_arr,pred_pro])\n",
    "        loss = loss_func(pred_pro,true_labels*1.)\n",
    "        op.zero_grad()\n",
    "        loss.backward()\n",
    "        op.step()\n",
    "    eval_data(true_arr,pre_arr)"
   ]
  },
  {
   "cell_type": "code",
   "execution_count": 104,
   "id": "0d6ef8df",
   "metadata": {},
   "outputs": [],
   "source": [
    "def eval_all_data(data):\n",
    "    true_arr = torch.tensor([])\n",
    "    pre_arr = torch.tensor([])\n",
    "    for i,xb in enumerate(data):\n",
    "        logits = sakt(xb.unsqueeze(0))\n",
    "        true_labels,pred_pro = parse_raw_data(xb,logits.squeeze(0))\n",
    "        true_arr = torch.cat([true_arr,true_labels])\n",
    "        pre_arr = torch.cat([pre_arr,pred_pro])\n",
    "    eval_data(true_arr,pre_arr)"
   ]
  },
  {
   "cell_type": "code",
   "execution_count": 105,
   "id": "be1ca42f",
   "metadata": {},
   "outputs": [
    {
     "name": "stdout",
     "output_type": "stream",
     "text": [
      "acc tensor(0.7875)\n"
     ]
    }
   ],
   "source": [
    "eval_all_data(val_data)"
   ]
  },
  {
   "cell_type": "code",
   "execution_count": null,
   "id": "f82591dd",
   "metadata": {},
   "outputs": [],
   "source": []
  }
 ],
 "metadata": {
  "kernelspec": {
   "display_name": "Python 3 (ipykernel)",
   "language": "python",
   "name": "python3"
  },
  "language_info": {
   "codemirror_mode": {
    "name": "ipython",
    "version": 3
   },
   "file_extension": ".py",
   "mimetype": "text/x-python",
   "name": "python",
   "nbconvert_exporter": "python",
   "pygments_lexer": "ipython3",
   "version": "3.10.8"
  }
 },
 "nbformat": 4,
 "nbformat_minor": 5
}
